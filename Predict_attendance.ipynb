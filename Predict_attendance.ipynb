{
  "nbformat": 4,
  "nbformat_minor": 0,
  "metadata": {
    "colab": {
      "provenance": [],
      "authorship_tag": "ABX9TyMwstiPh6WbelKk/+z6xBNY",
      "include_colab_link": true
    },
    "kernelspec": {
      "name": "python3",
      "display_name": "Python 3"
    },
    "language_info": {
      "name": "python"
    }
  },
  "cells": [
    {
      "cell_type": "markdown",
      "metadata": {
        "id": "view-in-github",
        "colab_type": "text"
      },
      "source": [
        "<a href=\"https://colab.research.google.com/github/GanHD/machineLearningModels/blob/main/Predict_attendance.ipynb\" target=\"_parent\"><img src=\"https://colab.research.google.com/assets/colab-badge.svg\" alt=\"Open In Colab\"/></a>"
      ]
    },
    {
      "cell_type": "code",
      "execution_count": 55,
      "metadata": {
        "id": "5QSVrOFl617P"
      },
      "outputs": [],
      "source": [
        "import numpy as np\n",
        "import pandas as pd\n",
        "from sklearn.model_selection import train_test_split\n",
        "from sklearn.linear_model import LinearRegression\n",
        "from sklearn.metrics import mean_squared_error\n",
        "from sklearn.preprocessing import LabelEncoder"
      ]
    },
    {
      "cell_type": "code",
      "source": [
        "df = pd.read_csv(\"attendance.csv\")"
      ],
      "metadata": {
        "id": "j4ima1DO8UqO"
      },
      "execution_count": 56,
      "outputs": []
    },
    {
      "cell_type": "code",
      "source": [
        "# Remove unnecessary columns forom data frame\n",
        "columns_to_remove = ['team', 'total','home','away']\n",
        "df = df.drop(columns=columns_to_remove)"
      ],
      "metadata": {
        "id": "K9xbB8pX9Va9"
      },
      "execution_count": 57,
      "outputs": []
    },
    {
      "cell_type": "code",
      "source": [
        "# Remove rows where there is no attendance data\n",
        "df = df.dropna(subset=['weekly_attendance'])"
      ],
      "metadata": {
        "id": "6aaQjpun9kPH"
      },
      "execution_count": 58,
      "outputs": []
    },
    {
      "cell_type": "code",
      "source": [
        "# Transform team name into an int by alphabetical order\n",
        "label_encoder = LabelEncoder()\n",
        "df['team_name'] = label_encoder.fit_transform(df['team_name'])"
      ],
      "metadata": {
        "id": "KVv_0IqUDdds"
      },
      "execution_count": 59,
      "outputs": []
    },
    {
      "cell_type": "code",
      "source": [
        "# Randomize data frame\n",
        "df = df.sample(frac = 1, random_state=1)"
      ],
      "metadata": {
        "id": "VUTrZ57E-anC"
      },
      "execution_count": 60,
      "outputs": []
    },
    {
      "cell_type": "code",
      "source": [
        "# Split df into training set and testing set\n",
        "train_df, test_df = train_test_split(df,test_size=0.2)"
      ],
      "metadata": {
        "id": "4uijB1z2-0qF"
      },
      "execution_count": 61,
      "outputs": []
    },
    {
      "cell_type": "code",
      "source": [
        "# Split dataframes by X and y values\n",
        "X_train = train_df[['team_name','year','week']]\n",
        "y_train = train_df['weekly_attendance']\n",
        "\n",
        "X_test = test_df[['team_name','year','week']]\n",
        "y_test = test_df['weekly_attendance']"
      ],
      "metadata": {
        "id": "dVSExoLzBJ-i"
      },
      "execution_count": 62,
      "outputs": []
    },
    {
      "cell_type": "code",
      "source": [
        "# Create a Linear Regression model\n",
        "model = LinearRegression()\n",
        "\n",
        "# Train the model\n",
        "model.fit(X_train, y_train)"
      ],
      "metadata": {
        "id": "WGbvE8W9DV2w"
      },
      "execution_count": null,
      "outputs": []
    },
    {
      "cell_type": "code",
      "source": [
        "y_train_pred = model.predict(X_test)\n",
        "mse = mean_squared_error(y_test, y_train_pred)\n",
        "print(\"Mean Squared Error on training data:\", mse)"
      ],
      "metadata": {
        "colab": {
          "base_uri": "https://localhost:8080/"
        },
        "id": "mllfKcU7FVg2",
        "outputId": "bc9734db-153d-4a05-8f0e-4f90f0461af7"
      },
      "execution_count": 64,
      "outputs": [
        {
          "output_type": "stream",
          "name": "stdout",
          "text": [
            "Mean Squared Error on training data: 80706770.9622464\n"
          ]
        }
      ]
    },
    {
      "cell_type": "code",
      "source": [
        "user_data = {\n",
        "}\n",
        "\n",
        "# Ask user for X values\n",
        "for feature_name in ['team_name','year','week']:\n",
        "    value = int(input(f\"Enter the value for {feature_name}: \"))\n",
        "    user_data[feature_name] = [value]\n",
        "\n",
        "user_df = pd.DataFrame(user_data)\n",
        "\n",
        "predictions = model.predict(user_df)\n",
        "predictions= int(predictions)\n",
        "\n",
        "# Print the predictions\n",
        "print(\"Predicted output:\", predictions)"
      ],
      "metadata": {
        "colab": {
          "base_uri": "https://localhost:8080/"
        },
        "id": "r3devpc2HFEB",
        "outputId": "fee68294-7ba2-4038-aab0-e64e5911b35c"
      },
      "execution_count": 65,
      "outputs": [
        {
          "output_type": "stream",
          "name": "stdout",
          "text": [
            "Enter the value for team_name: 9\n",
            "Enter the value for year: 2017\n",
            "Enter the value for week: 3\n",
            "Predicted output: 68347\n"
          ]
        }
      ]
    }
  ]
}